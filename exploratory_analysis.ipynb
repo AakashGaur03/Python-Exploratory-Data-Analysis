{
 "cells": [
  {
   "cell_type": "markdown",
   "metadata": {},
   "source": [
    "## Imports and Reading Data"
   ]
  },
  {
   "cell_type": "code",
   "execution_count": 130,
   "metadata": {},
   "outputs": [],
   "source": [
    "import pandas as pd\n",
    "import numpy as np\n",
    "import matplotlib.pyplot as plt\n",
    "import seaborn as sns\n",
    "plt.style.use('ggplot')"
   ]
  },
  {
   "cell_type": "code",
   "execution_count": 131,
   "metadata": {},
   "outputs": [],
   "source": [
    "df = pd.read_csv('./coaster_db.csv')\n",
    "df.shape\n"
   ]
  },
  {
   "cell_type": "code",
   "execution_count": null,
   "metadata": {},
   "outputs": [],
   "source": [
    "df.head(8)"
   ]
  },
  {
   "cell_type": "code",
   "execution_count": 133,
   "metadata": {},
   "outputs": [],
   "source": [
    "pd.set_option('display.max_columns', 200)"
   ]
  },
  {
   "cell_type": "code",
   "execution_count": null,
   "metadata": {},
   "outputs": [],
   "source": [
    "df.head()"
   ]
  },
  {
   "cell_type": "code",
   "execution_count": null,
   "metadata": {},
   "outputs": [],
   "source": [
    "df.columns"
   ]
  },
  {
   "cell_type": "code",
   "execution_count": null,
   "metadata": {},
   "outputs": [],
   "source": [
    "df.dtypes"
   ]
  },
  {
   "cell_type": "code",
   "execution_count": 137,
   "metadata": {},
   "outputs": [],
   "source": [
    "df.describe()"
   ]
  },
  {
   "cell_type": "markdown",
   "metadata": {},
   "source": [
    "## Data Preperation"
   ]
  },
  {
   "cell_type": "code",
   "execution_count": null,
   "metadata": {},
   "outputs": [],
   "source": [
    "df.columns"
   ]
  },
  {
   "cell_type": "code",
   "execution_count": 164,
   "metadata": {},
   "outputs": [],
   "source": [
    "# df.drop(['Opening date'],axis=1)"
   ]
  },
  {
   "cell_type": "code",
   "execution_count": 75,
   "metadata": {},
   "outputs": [],
   "source": [
    "df = df[['coaster_name', \n",
    "    # 'Length', 'Speed',\n",
    "     'Location', 'Status',\n",
    "    #  'Opening date',\n",
    "    #    'Type', \n",
    "       'Manufacturer',\n",
    "        #  'Height restriction', 'Model', 'Height',\n",
    "    #    'Inversions', 'Lift/launch system', 'Cost', 'Trains', 'Park section',\n",
    "    #    'Duration', 'Capacity', 'G-force', 'Designer', 'Max vertical angle',\n",
    "    #    'Drop', 'Soft opening date', 'Fast Lane available', 'Replaced',\n",
    "    #    'Track layout', 'Fastrack available', 'Soft opening date.1',\n",
    "    #    'Closing date', \n",
    "    # 'Opened', \n",
    "    # 'Replaced by', 'Website',\n",
    "    #    'Flash Pass Available', 'Must transfer from wheelchair', 'Theme',\n",
    "    #    'Single rider line available', 'Restraint Style',\n",
    "    #    'Flash Pass available', 'Acceleration', 'Restraints', 'Name',\n",
    "       'year_introduced',\n",
    "         'latitude', 'longitude', 'Type_Main',\n",
    "       'opening_date_clean',\n",
    "        #  'speed1', 'speed2', 'speed1_value', 'speed1_unit',\n",
    "       'speed_mph',\n",
    "        'height_value', 'height_unit', 'height_ft',\n",
    "       'Inversions_clean', 'Gforce_clean']].copy()"
   ]
  },
  {
   "cell_type": "code",
   "execution_count": 76,
   "metadata": {},
   "outputs": [
    {
     "data": {
      "text/plain": [
       "(1087, 15)"
      ]
     },
     "execution_count": 76,
     "metadata": {},
     "output_type": "execute_result"
    }
   ],
   "source": [
    "df.shape"
   ]
  },
  {
   "cell_type": "code",
   "execution_count": null,
   "metadata": {},
   "outputs": [],
   "source": [
    "df.dtypes"
   ]
  },
  {
   "cell_type": "code",
   "execution_count": 141,
   "metadata": {},
   "outputs": [],
   "source": [
    "df['opening_date_clean'] = pd.to_datetime(df['opening_date_clean'])"
   ]
  },
  {
   "cell_type": "markdown",
   "metadata": {},
   "source": [
    "## Rename our Columns"
   ]
  },
  {
   "cell_type": "code",
   "execution_count": 142,
   "metadata": {},
   "outputs": [],
   "source": [
    "df.columns\n",
    "df = df.rename(columns={'coaster_name':\"Coaster_Name\",\"year_introduced\":\"Year_Introduced\"})"
   ]
  },
  {
   "cell_type": "code",
   "execution_count": null,
   "metadata": {},
   "outputs": [],
   "source": [
    "df.columns"
   ]
  },
  {
   "cell_type": "code",
   "execution_count": null,
   "metadata": {},
   "outputs": [],
   "source": [
    "df.isna().sum()"
   ]
  },
  {
   "cell_type": "code",
   "execution_count": null,
   "metadata": {},
   "outputs": [],
   "source": [
    "df.loc[df.duplicated()]"
   ]
  },
  {
   "cell_type": "code",
   "execution_count": null,
   "metadata": {},
   "outputs": [],
   "source": [
    "df.loc[df.duplicated(subset=['Coaster_Name'])] # It show the second element means the duplciated one"
   ]
  },
  {
   "cell_type": "code",
   "execution_count": null,
   "metadata": {},
   "outputs": [],
   "source": [
    "df.query('Coaster_Name == \"Crystal Beach Cyclone\"')"
   ]
  },
  {
   "cell_type": "code",
   "execution_count": 148,
   "metadata": {},
   "outputs": [],
   "source": [
    "# df.duplicated(subset=['Coaster_Name',\"Location\",\"opening_date_clean\"])\n",
    "df = df.loc[~df.duplicated(subset=['Coaster_Name',\"Location\",\"opening_date_clean\"])] # Not duplicates\n",
    "df"
   ]
  },
  {
   "cell_type": "code",
   "execution_count": null,
   "metadata": {},
   "outputs": [],
   "source": [
    "df.reset_index(drop=True)"
   ]
  },
  {
   "cell_type": "code",
   "execution_count": null,
   "metadata": {},
   "outputs": [],
   "source": [
    "df.shape"
   ]
  },
  {
   "cell_type": "markdown",
   "metadata": {},
   "source": [
    "## Feature Understanding"
   ]
  },
  {
   "cell_type": "code",
   "execution_count": null,
   "metadata": {},
   "outputs": [],
   "source": [
    "df['Year_Introduced'].value_counts()  # Automatically shows in decreasing order"
   ]
  },
  {
   "cell_type": "code",
   "execution_count": 152,
   "metadata": {},
   "outputs": [],
   "source": [
    "ax = df['Year_Introduced'].value_counts() \\\n",
    ".head(10) \\\n",
    ".plot(kind='bar',title=\"Top 10 Years Coasters Introduced\")  # Back Slashes let us break the line\n",
    "\n",
    "ax.set_ylabel(\"Count\")\n",
    "ax.set_xlabel(\"Year Introduced\")"
   ]
  },
  {
   "cell_type": "code",
   "execution_count": 153,
   "metadata": {},
   "outputs": [],
   "source": [
    "ax = df['speed_mph'].plot(kind=\"hist\",bins=20,title=\"Coster Speed\")\n",
    "ax.set_xlabel(\"Speed mph\")"
   ]
  },
  {
   "cell_type": "markdown",
   "metadata": {},
   "source": [
    "## Feature Relationships"
   ]
  },
  {
   "cell_type": "code",
   "execution_count": null,
   "metadata": {},
   "outputs": [],
   "source": [
    "\n",
    "df.plot(kind=\"scatter\",x='speed_mph',y=\"height_ft\",title=\"Speed VS Height\")\n",
    "plt.show()"
   ]
  },
  {
   "cell_type": "code",
   "execution_count": null,
   "metadata": {},
   "outputs": [],
   "source": [
    "# Seaborn\n",
    "sns.scatterplot(x=\"speed_mph\",y='height_ft',data=df,hue=\"Year_Introduced\")"
   ]
  },
  {
   "cell_type": "code",
   "execution_count": 156,
   "metadata": {},
   "outputs": [],
   "source": [
    "sns.pairplot(df,x_vars=[\"Year_Introduced\",'speed_mph',\"height_ft\",\"Gforce_clean\"],hue='Type_Main')"
   ]
  },
  {
   "cell_type": "code",
   "execution_count": 157,
   "metadata": {},
   "outputs": [],
   "source": [
    "df_corr = df[[\"Year_Introduced\",'speed_mph',\"height_ft\",\"Gforce_clean\"]].dropna().corr() # corr shows corelation between the options that we want\n",
    "df_corr"
   ]
  },
  {
   "cell_type": "code",
   "execution_count": 158,
   "metadata": {},
   "outputs": [],
   "source": [
    "\n",
    "sns.heatmap(df_corr,annot=True)"
   ]
  },
  {
   "cell_type": "markdown",
   "metadata": {},
   "source": [
    "## Asking a Question About the Data\n",
    "\n",
    "Q What are the locations with the fastest roller coasters (min of 10)?"
   ]
  },
  {
   "cell_type": "code",
   "execution_count": 159,
   "metadata": {},
   "outputs": [],
   "source": [
    "df.head()"
   ]
  },
  {
   "cell_type": "code",
   "execution_count": null,
   "metadata": {},
   "outputs": [],
   "source": [
    "df['Location'].value_counts()"
   ]
  },
  {
   "cell_type": "code",
   "execution_count": null,
   "metadata": {},
   "outputs": [],
   "source": [
    "df.query('Location != \"Other\"').groupby('Location')['speed_mph'].agg(['mean','count']).query('count>=10').sort_values('mean')\n",
    "# Filter out rows where Location is \"Other\", then group the remaining data by Location.\n",
    "# For each group, compute the mean and count of 'speed_mph'.\n",
    "# Finally, keep only those groups where the count is at least 10 to ensure statistical significance.\n",
    "# Sort by mean speed"
   ]
  },
  {
   "cell_type": "code",
   "execution_count": null,
   "metadata": {},
   "outputs": [],
   "source": [
    "df.query('Location != \"Other\"').groupby('Location')['speed_mph'].agg(['mean','count']).query('count>=10').sort_values('mean').plot(kind='barh')\n"
   ]
  },
  {
   "cell_type": "code",
   "execution_count": 163,
   "metadata": {},
   "outputs": [],
   "source": [
    "ax = df.query('Location != \"Other\"').groupby('Location')['speed_mph'].agg(['mean','count']).query('count>=10').sort_values('mean')['mean'].plot(kind='barh',title = 'Avg speed by Location')\n",
    "\n",
    "ax.set_xlabel(\"Average Coaster Speed\")"
   ]
  }
 ],
 "metadata": {
  "kernelspec": {
   "display_name": "venv",
   "language": "python",
   "name": "python3"
  },
  "language_info": {
   "codemirror_mode": {
    "name": "ipython",
    "version": 3
   },
   "file_extension": ".py",
   "mimetype": "text/x-python",
   "name": "python",
   "nbconvert_exporter": "python",
   "pygments_lexer": "ipython3",
   "version": "3.13.3"
  }
 },
 "nbformat": 4,
 "nbformat_minor": 2
}
