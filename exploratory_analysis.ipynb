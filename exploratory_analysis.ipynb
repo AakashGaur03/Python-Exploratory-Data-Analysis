{
 "cells": [
  {
   "cell_type": "markdown",
   "metadata": {},
   "source": [
    "## Imports and Reading Data"
   ]
  },
  {
   "cell_type": "code",
   "execution_count": 49,
   "metadata": {},
   "outputs": [],
   "source": [
    "import pandas as pd\n",
    "import numpy as np\n",
    "import matplotlib.pyplot as plt\n",
    "import seaborn as sns\n",
    "plt.style.use('ggplot')"
   ]
  },
  {
   "cell_type": "code",
   "execution_count": 50,
   "metadata": {},
   "outputs": [],
   "source": [
    "df = pd.read_csv('./coaster_db.csv')\n",
    "df.shape\n"
   ]
  },
  {
   "cell_type": "code",
   "execution_count": null,
   "metadata": {},
   "outputs": [],
   "source": [
    "df.head(8)"
   ]
  },
  {
   "cell_type": "code",
   "execution_count": 52,
   "metadata": {},
   "outputs": [],
   "source": [
    "pd.set_option('display.max_columns', 200)"
   ]
  },
  {
   "cell_type": "code",
   "execution_count": null,
   "metadata": {},
   "outputs": [],
   "source": [
    "df.head()"
   ]
  },
  {
   "cell_type": "code",
   "execution_count": null,
   "metadata": {},
   "outputs": [],
   "source": [
    "df.columns"
   ]
  },
  {
   "cell_type": "code",
   "execution_count": null,
   "metadata": {},
   "outputs": [],
   "source": [
    "df.dtypes"
   ]
  },
  {
   "cell_type": "code",
   "execution_count": 56,
   "metadata": {},
   "outputs": [],
   "source": [
    "df.describe()"
   ]
  },
  {
   "cell_type": "markdown",
   "metadata": {},
   "source": [
    "## Data Preperation"
   ]
  },
  {
   "cell_type": "code",
   "execution_count": null,
   "metadata": {},
   "outputs": [],
   "source": [
    "df.columns"
   ]
  },
  {
   "cell_type": "code",
   "execution_count": null,
   "metadata": {},
   "outputs": [],
   "source": [
    "# df.drop(['Opening date'],axis=1)"
   ]
  },
  {
   "cell_type": "code",
   "execution_count": 59,
   "metadata": {},
   "outputs": [],
   "source": [
    "df = df[['coaster_name', \n",
    "    # 'Length', 'Speed',\n",
    "     'Location', 'Status',\n",
    "    #  'Opening date',\n",
    "    #    'Type', \n",
    "       'Manufacturer',\n",
    "        #  'Height restriction', 'Model', 'Height',\n",
    "    #    'Inversions', 'Lift/launch system', 'Cost', 'Trains', 'Park section',\n",
    "    #    'Duration', 'Capacity', 'G-force', 'Designer', 'Max vertical angle',\n",
    "    #    'Drop', 'Soft opening date', 'Fast Lane available', 'Replaced',\n",
    "    #    'Track layout', 'Fastrack available', 'Soft opening date.1',\n",
    "    #    'Closing date', \n",
    "    # 'Opened', \n",
    "    # 'Replaced by', 'Website',\n",
    "    #    'Flash Pass Available', 'Must transfer from wheelchair', 'Theme',\n",
    "    #    'Single rider line available', 'Restraint Style',\n",
    "    #    'Flash Pass available', 'Acceleration', 'Restraints', 'Name',\n",
    "       'year_introduced',\n",
    "         'latitude', 'longitude', 'Type_Main',\n",
    "       'opening_date_clean',\n",
    "        #  'speed1', 'speed2', 'speed1_value', 'speed1_unit',\n",
    "       'speed_mph',\n",
    "        #  'height_value', 'height_unit', 'height_ft',\n",
    "       'Inversions_clean', 'Gforce_clean']].copy()"
   ]
  },
  {
   "cell_type": "code",
   "execution_count": null,
   "metadata": {},
   "outputs": [],
   "source": [
    "df.shape"
   ]
  },
  {
   "cell_type": "code",
   "execution_count": null,
   "metadata": {},
   "outputs": [],
   "source": [
    "df.dtypes"
   ]
  }
 ],
 "metadata": {
  "kernelspec": {
   "display_name": "venv",
   "language": "python",
   "name": "python3"
  },
  "language_info": {
   "codemirror_mode": {
    "name": "ipython",
    "version": 3
   },
   "file_extension": ".py",
   "mimetype": "text/x-python",
   "name": "python",
   "nbconvert_exporter": "python",
   "pygments_lexer": "ipython3",
   "version": "3.13.3"
  }
 },
 "nbformat": 4,
 "nbformat_minor": 2
}
